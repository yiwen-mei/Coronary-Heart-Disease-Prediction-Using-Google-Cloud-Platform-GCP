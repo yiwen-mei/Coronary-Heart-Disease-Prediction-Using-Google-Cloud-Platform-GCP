{
  "cells": [
    {
      "cell_type": "code",
      "id": "QnsEpe4NNWVfOeK6znzSl7Uq",
      "metadata": {
        "tags": [],
        "id": "QnsEpe4NNWVfOeK6znzSl7Uq"
      },
      "source": [
        "! pip install kfp\n",
        "!pip install google-cloud-pipeline-components\n",
        "!pip install gcsfs\n",
        "!pip install fsspec\n",
        "!pip install scikit-learn"
      ],
      "execution_count": null,
      "outputs": []
    },
    {
      "cell_type": "code",
      "source": [
        "# Set parameters\n",
        "project_id = 'ise543-final-project-421906'\n",
        "location = 'us-central1'\n",
        "\n",
        "from google.cloud import aiplatform\n",
        "aiplatform.init(project=project_id, location=location)\n",
        "\n",
        "from kfp.v2.dsl import pipeline, component, component, InputPath, OutputPath, Dataset\n",
        "import joblib\n",
        "import gcsfs\n",
        "import fsspec\n",
        "import pandas as pd\n",
        "import numpy as np"
      ],
      "metadata": {
        "id": "98BqMtSAV-Rb"
      },
      "id": "98BqMtSAV-Rb",
      "execution_count": null,
      "outputs": []
    },
    {
      "cell_type": "code",
      "source": [
        "impute_multiple_features_training_artifact_path = \"gs://final-bucket-2/795244162107/final-project-pipeline-20240501182840/impute-multiple-features-training_-3870435342435745792/executor_output.json\"\n",
        "model_path = 'gs://final-bucket-2/795244162107/final-project-pipeline-20240502212050/train-gradient-boosting_-5544868406236282880/trained_model_artifact/model.joblib'"
      ],
      "metadata": {
        "id": "Nouw5mvAWG1l"
      },
      "id": "Nouw5mvAWG1l",
      "execution_count": null,
      "outputs": []
    },
    {
      "cell_type": "code",
      "source": [
        "impute_dictionary = pd.read_json(impute_multiple_features_training_artifact_path).to_dict()\n",
        "impute_dictionary"
      ],
      "metadata": {
        "colab": {
          "base_uri": "https://localhost:8080/"
        },
        "id": "0rl00kdUjOcm",
        "executionInfo": {
          "status": "ok",
          "timestamp": 1714695490473,
          "user_tz": 420,
          "elapsed": 185,
          "user": {
            "displayName": "",
            "userId": ""
          }
        },
        "outputId": "c41b986d-7235-45ab-bb7e-1e9f37ede18c"
      },
      "id": "0rl00kdUjOcm",
      "execution_count": null,
      "outputs": [
        {
          "output_type": "execute_result",
          "data": {
            "text/plain": [
              "{'artifacts': {'feature_medians': {'artifacts': [{'name': 'projects/795244162107/locations/us-central1/metadataStores/default/artifacts/7653179628138035221',\n",
              "     'uri': 'gs://final-bucket-2/795244162107/final-project-pipeline-20240501182840/impute-multiple-features-training_-3870435342435745792/feature_medians',\n",
              "     'metadata': {'medians': {'cigsPerDay': 20.0,\n",
              "       'totChol': 233.0,\n",
              "       'glucose': 78.0,\n",
              "       'BMI': 25.38,\n",
              "       'heartRate': 75.0},\n",
              "      'modes': {'education': 1.0, 'BPMeds': 0.0}}}]},\n",
              "  'imputed_dataset_path': {'artifacts': [{'name': 'projects/795244162107/locations/us-central1/metadataStores/default/artifacts/15032303969185358295',\n",
              "     'uri': 'gs://final-bucket-2/795244162107/final-project-pipeline-20240501182840/impute-multiple-features-training_-3870435342435745792/imputed_dataset_path',\n",
              "     'metadata': {}}]}}}"
            ]
          },
          "metadata": {},
          "execution_count": 14
        }
      ]
    },
    {
      "cell_type": "code",
      "source": [
        "training_cigsPerDay_median = impute_dictionary['artifacts']['feature_medians']['artifacts'][0]['metadata']\n",
        "training_cigsPerDay_median"
      ],
      "metadata": {
        "colab": {
          "base_uri": "https://localhost:8080/"
        },
        "id": "sYduxDupjwNj",
        "executionInfo": {
          "status": "ok",
          "timestamp": 1714695490473,
          "user_tz": 420,
          "elapsed": 4,
          "user": {
            "displayName": "",
            "userId": ""
          }
        },
        "outputId": "5b6281e4-0bca-45b8-c2fe-25242b28ca87"
      },
      "id": "sYduxDupjwNj",
      "execution_count": null,
      "outputs": [
        {
          "output_type": "execute_result",
          "data": {
            "text/plain": [
              "{'medians': {'cigsPerDay': 20.0,\n",
              "  'totChol': 233.0,\n",
              "  'glucose': 78.0,\n",
              "  'BMI': 25.38,\n",
              "  'heartRate': 75.0},\n",
              " 'modes': {'education': 1.0, 'BPMeds': 0.0}}"
            ]
          },
          "metadata": {},
          "execution_count": 15
        }
      ]
    },
    {
      "cell_type": "code",
      "source": [
        "medians = impute_dictionary['artifacts']['feature_medians']['artifacts'][0]['metadata']['medians']\n",
        "modes = impute_dictionary['artifacts']['feature_medians']['artifacts'][0]['metadata']['modes']\n",
        "\n",
        "median_cigsPerDay = medians['cigsPerDay']\n",
        "median_totChol = medians['totChol']\n",
        "median_glucose = medians['glucose']\n",
        "median_BMI = medians['BMI']\n",
        "median_heartRate = medians['heartRate']\n",
        "mode_education = modes['education']\n",
        "mode_BPMeds = modes['BPMeds']\n",
        "\n",
        "print(\"Median of Cigarettes Per Day:\", median_cigsPerDay)\n",
        "print(\"Median of Total Cholesterol:\", median_totChol)\n",
        "print(\"Median of Glucose:\", median_glucose)\n",
        "print(\"Median of BMI:\", median_BMI)\n",
        "print(\"Median of Heart Rate:\", median_heartRate)\n",
        "print(\"Mode of Education:\", mode_education)\n",
        "print(\"Mode of BPMeds:\", mode_BPMeds)\n",
        "\n"
      ],
      "metadata": {
        "colab": {
          "base_uri": "https://localhost:8080/"
        },
        "id": "my6x5IboktFY",
        "executionInfo": {
          "status": "ok",
          "timestamp": 1714695490473,
          "user_tz": 420,
          "elapsed": 2,
          "user": {
            "displayName": "",
            "userId": ""
          }
        },
        "outputId": "d1830b6c-dbfa-4191-8c07-3db1c37c1409"
      },
      "id": "my6x5IboktFY",
      "execution_count": null,
      "outputs": [
        {
          "output_type": "stream",
          "name": "stdout",
          "text": [
            "Median of Cigarettes Per Day: 20.0\n",
            "Median of Total Cholesterol: 233.0\n",
            "Median of Glucose: 78.0\n",
            "Median of BMI: 25.38\n",
            "Median of Heart Rate: 75.0\n",
            "Mode of Education: 1.0\n",
            "Mode of BPMeds: 0.0\n"
          ]
        }
      ]
    },
    {
      "cell_type": "code",
      "source": [
        "# Create a GCS file system object\n",
        "fs = gcsfs.GCSFileSystem()\n",
        "\n",
        "with fs.open(model_path, 'rb') as f:\n",
        "    model = joblib.load(f)\n",
        "\n",
        "model"
      ],
      "metadata": {
        "colab": {
          "base_uri": "https://localhost:8080/",
          "height": 273
        },
        "id": "ZEbUfW-fZyJ1",
        "executionInfo": {
          "status": "ok",
          "timestamp": 1714695491025,
          "user_tz": 420,
          "elapsed": 553,
          "user": {
            "displayName": "",
            "userId": ""
          }
        },
        "outputId": "d0520b6d-5849-4bc5-d888-b33a8170cf64"
      },
      "id": "ZEbUfW-fZyJ1",
      "execution_count": null,
      "outputs": [
        {
          "output_type": "stream",
          "name": "stderr",
          "text": [
            "/usr/local/lib/python3.10/dist-packages/sklearn/base.py:318: UserWarning: Trying to unpickle estimator DummyClassifier from version 1.0.2 when using version 1.2.2. This might lead to breaking code or invalid results. Use at your own risk. For more info please refer to:\n",
            "https://scikit-learn.org/stable/model_persistence.html#security-maintainability-limitations\n",
            "  warnings.warn(\n",
            "/usr/local/lib/python3.10/dist-packages/sklearn/base.py:318: UserWarning: Trying to unpickle estimator DecisionTreeRegressor from version 1.0.2 when using version 1.2.2. This might lead to breaking code or invalid results. Use at your own risk. For more info please refer to:\n",
            "https://scikit-learn.org/stable/model_persistence.html#security-maintainability-limitations\n",
            "  warnings.warn(\n",
            "/usr/local/lib/python3.10/dist-packages/sklearn/base.py:318: UserWarning: Trying to unpickle estimator GradientBoostingClassifier from version 1.0.2 when using version 1.2.2. This might lead to breaking code or invalid results. Use at your own risk. For more info please refer to:\n",
            "https://scikit-learn.org/stable/model_persistence.html#security-maintainability-limitations\n",
            "  warnings.warn(\n"
          ]
        },
        {
          "output_type": "execute_result",
          "data": {
            "text/plain": [
              "GradientBoostingClassifier(learning_rate=0.05, loss='deviance', max_depth=4,\n",
              "                           max_features=5, n_estimators=500, random_state=42)"
            ],
            "text/html": [
              "<style>#sk-container-id-2 {color: black;background-color: white;}#sk-container-id-2 pre{padding: 0;}#sk-container-id-2 div.sk-toggleable {background-color: white;}#sk-container-id-2 label.sk-toggleable__label {cursor: pointer;display: block;width: 100%;margin-bottom: 0;padding: 0.3em;box-sizing: border-box;text-align: center;}#sk-container-id-2 label.sk-toggleable__label-arrow:before {content: \"▸\";float: left;margin-right: 0.25em;color: #696969;}#sk-container-id-2 label.sk-toggleable__label-arrow:hover:before {color: black;}#sk-container-id-2 div.sk-estimator:hover label.sk-toggleable__label-arrow:before {color: black;}#sk-container-id-2 div.sk-toggleable__content {max-height: 0;max-width: 0;overflow: hidden;text-align: left;background-color: #f0f8ff;}#sk-container-id-2 div.sk-toggleable__content pre {margin: 0.2em;color: black;border-radius: 0.25em;background-color: #f0f8ff;}#sk-container-id-2 input.sk-toggleable__control:checked~div.sk-toggleable__content {max-height: 200px;max-width: 100%;overflow: auto;}#sk-container-id-2 input.sk-toggleable__control:checked~label.sk-toggleable__label-arrow:before {content: \"▾\";}#sk-container-id-2 div.sk-estimator input.sk-toggleable__control:checked~label.sk-toggleable__label {background-color: #d4ebff;}#sk-container-id-2 div.sk-label input.sk-toggleable__control:checked~label.sk-toggleable__label {background-color: #d4ebff;}#sk-container-id-2 input.sk-hidden--visually {border: 0;clip: rect(1px 1px 1px 1px);clip: rect(1px, 1px, 1px, 1px);height: 1px;margin: -1px;overflow: hidden;padding: 0;position: absolute;width: 1px;}#sk-container-id-2 div.sk-estimator {font-family: monospace;background-color: #f0f8ff;border: 1px dotted black;border-radius: 0.25em;box-sizing: border-box;margin-bottom: 0.5em;}#sk-container-id-2 div.sk-estimator:hover {background-color: #d4ebff;}#sk-container-id-2 div.sk-parallel-item::after {content: \"\";width: 100%;border-bottom: 1px solid gray;flex-grow: 1;}#sk-container-id-2 div.sk-label:hover label.sk-toggleable__label {background-color: #d4ebff;}#sk-container-id-2 div.sk-serial::before {content: \"\";position: absolute;border-left: 1px solid gray;box-sizing: border-box;top: 0;bottom: 0;left: 50%;z-index: 0;}#sk-container-id-2 div.sk-serial {display: flex;flex-direction: column;align-items: center;background-color: white;padding-right: 0.2em;padding-left: 0.2em;position: relative;}#sk-container-id-2 div.sk-item {position: relative;z-index: 1;}#sk-container-id-2 div.sk-parallel {display: flex;align-items: stretch;justify-content: center;background-color: white;position: relative;}#sk-container-id-2 div.sk-item::before, #sk-container-id-2 div.sk-parallel-item::before {content: \"\";position: absolute;border-left: 1px solid gray;box-sizing: border-box;top: 0;bottom: 0;left: 50%;z-index: -1;}#sk-container-id-2 div.sk-parallel-item {display: flex;flex-direction: column;z-index: 1;position: relative;background-color: white;}#sk-container-id-2 div.sk-parallel-item:first-child::after {align-self: flex-end;width: 50%;}#sk-container-id-2 div.sk-parallel-item:last-child::after {align-self: flex-start;width: 50%;}#sk-container-id-2 div.sk-parallel-item:only-child::after {width: 0;}#sk-container-id-2 div.sk-dashed-wrapped {border: 1px dashed gray;margin: 0 0.4em 0.5em 0.4em;box-sizing: border-box;padding-bottom: 0.4em;background-color: white;}#sk-container-id-2 div.sk-label label {font-family: monospace;font-weight: bold;display: inline-block;line-height: 1.2em;}#sk-container-id-2 div.sk-label-container {text-align: center;}#sk-container-id-2 div.sk-container {/* jupyter's `normalize.less` sets `[hidden] { display: none; }` but bootstrap.min.css set `[hidden] { display: none !important; }` so we also need the `!important` here to be able to override the default hidden behavior on the sphinx rendered scikit-learn.org. See: https://github.com/scikit-learn/scikit-learn/issues/21755 */display: inline-block !important;position: relative;}#sk-container-id-2 div.sk-text-repr-fallback {display: none;}</style><div id=\"sk-container-id-2\" class=\"sk-top-container\"><div class=\"sk-text-repr-fallback\"><pre>GradientBoostingClassifier(learning_rate=0.05, loss=&#x27;deviance&#x27;, max_depth=4,\n",
              "                           max_features=5, n_estimators=500, random_state=42)</pre><b>In a Jupyter environment, please rerun this cell to show the HTML representation or trust the notebook. <br />On GitHub, the HTML representation is unable to render, please try loading this page with nbviewer.org.</b></div><div class=\"sk-container\" hidden><div class=\"sk-item\"><div class=\"sk-estimator sk-toggleable\"><input class=\"sk-toggleable__control sk-hidden--visually\" id=\"sk-estimator-id-2\" type=\"checkbox\" checked><label for=\"sk-estimator-id-2\" class=\"sk-toggleable__label sk-toggleable__label-arrow\">GradientBoostingClassifier</label><div class=\"sk-toggleable__content\"><pre>GradientBoostingClassifier(learning_rate=0.05, loss=&#x27;deviance&#x27;, max_depth=4,\n",
              "                           max_features=5, n_estimators=500, random_state=42)</pre></div></div></div></div></div>"
            ]
          },
          "metadata": {},
          "execution_count": 17
        }
      ]
    },
    {
      "cell_type": "code",
      "source": [
        "@component(packages_to_install=[\"pandas\", \"numpy\", \"fsspec\", \"gcsfs\"])\n",
        "def impute_multiple_features_validation(validation_dataset_path: str,\n",
        "                                        imputed_dataset_path: OutputPath('Dataset'),\n",
        "                                        median_cigsPerDay: float,\n",
        "                                        median_totChol: float,\n",
        "                                        median_glucose: float,\n",
        "                                        median_BMI: float,\n",
        "                                        median_heartRate: float,\n",
        "                                        mode_education: float,\n",
        "                                        mode_BPMeds: float):\n",
        "    import pandas as pd\n",
        "    # Load the test dataset\n",
        "    df = pd.read_csv(validation_dataset_path)\n",
        "\n",
        "    import pandas as pd\n",
        "\n",
        "    df = pd.read_csv(validation_dataset_path)\n",
        "\n",
        "\n",
        "\n",
        "    df['cigsPerDay'].fillna(median_cigsPerDay, inplace=True)\n",
        "    df['totChol'].fillna(median_totChol, inplace=True)\n",
        "    df['glucose'].fillna(median_glucose, inplace=True)\n",
        "    df['BMI'].fillna(median_BMI, inplace=True)\n",
        "    df['heartRate'].fillna(median_heartRate, inplace=True)\n",
        "    df['education'].fillna(mode_education, inplace=True)\n",
        "    df['BPMeds'].fillna(mode_BPMeds, inplace=True)\n",
        "\n",
        "\n",
        "    df.to_csv(imputed_dataset_path, index=False)"
      ],
      "metadata": {
        "id": "PvqWxpztlFgb",
        "executionInfo": {
          "status": "ok",
          "timestamp": 1714695491025,
          "user_tz": 420,
          "elapsed": 6,
          "user": {
            "displayName": "",
            "userId": ""
          }
        },
        "colab": {
          "base_uri": "https://localhost:8080/"
        },
        "outputId": "8e9aae60-a6d2-46e3-84b4-48811c6d1c6a"
      },
      "id": "PvqWxpztlFgb",
      "execution_count": null,
      "outputs": [
        {
          "output_type": "stream",
          "name": "stderr",
          "text": [
            "/usr/local/lib/python3.10/dist-packages/kfp/dsl/component_decorator.py:119: FutureWarning: Python 3.7 has reached end-of-life. The default base_image used by the @dsl.component decorator will switch from 'python:3.7' to 'python:3.8' on April 23, 2024. To ensure your existing components work with versions of the KFP SDK released after that date, you should provide an explicit base_image argument and ensure your component works as intended on Python 3.8.\n",
            "  return component_factory.create_component_from_func(\n"
          ]
        }
      ]
    },
    {
      "cell_type": "code",
      "source": [
        "@component(packages_to_install=[\"pandas\", \"numpy\", \"fsspec\", \"gcsfs\"])\n",
        "def perform_initial_data_preparation(input_dataset_path: InputPath('Dataset'),\n",
        "                                     output_dataset_path: OutputPath(Dataset)):\n",
        "    import pandas as pd\n",
        "    import numpy as np\n",
        "\n",
        "    df = pd.read_csv(input_dataset_path)\n",
        "    df = df.drop(columns=[\"a1c\"])\n",
        "    df[\"totChol\"] = df[\"totChol\"].clip(upper=700)\n",
        "    df[\"BMI\"] = df[\"BMI\"].clip(upper=50)\n",
        "    df[\"totChol\"] = np.log(df[\"totChol\"]+1)\n",
        "    df[\"income\"] = np.log(df[\"income\"]+1)\n",
        "    df.loc[df['currentSmoker'] == 0, 'cigsPerDay'] = 0\n",
        "    df = pd.get_dummies(df, drop_first=True)\n",
        "    df.to_csv(output_dataset_path, index=False)"
      ],
      "metadata": {
        "id": "Rxss-dAwmm48"
      },
      "id": "Rxss-dAwmm48",
      "execution_count": null,
      "outputs": []
    },
    {
      "cell_type": "code",
      "source": [
        "@component(packages_to_install=[\"pandas\", \"numpy\", \"scikit-learn\", \"joblib\", \"fsspec\", \"gcsfs\"])\n",
        "def perform_predictions(dataset_for_prediction_path: InputPath('Dataset'),\n",
        "                   model_path: str,\n",
        "                   predictions_path: OutputPath('Dataset')):\n",
        "\n",
        "    import pandas as pd\n",
        "    import joblib\n",
        "    import gcsfs\n",
        "\n",
        "    # Create a GCS file system object\n",
        "    fs = gcsfs.GCSFileSystem()\n",
        "\n",
        "    # Load the trained model\n",
        "    with fs.open(model_path, 'rb') as f:\n",
        "      trained_model = joblib.load(f)\n",
        "\n",
        "    # Load the test dataset\n",
        "    pred_df = pd.read_csv(dataset_for_prediction_path)\n",
        "\n",
        "    # Make predictions\n",
        "    #y_pred = trained_model.predict(pred_df)\n",
        "    pred_df_2 = pred_df.drop('patientID', axis=1)\n",
        "    y_pred = trained_model.predict(pred_df_2)\n",
        "    pred_df['prediction'] = y_pred\n",
        "    pred_df = pred_df[['patientID', 'prediction']]\n",
        "\n",
        "    # Save the predictions\n",
        "    pred_df.to_csv(predictions_path, index=False)"
      ],
      "metadata": {
        "id": "Y53biKTWdfeR"
      },
      "id": "Y53biKTWdfeR",
      "execution_count": null,
      "outputs": []
    },
    {
      "cell_type": "code",
      "source": [
        "from kfp.v2.dsl import pipeline, Output, Dataset\n",
        "model_path = 'gs://final-bucket-2/795244162107/final-project-pipeline-20240502212050/train-gradient-boosting_-5544868406236282880/trained_model_artifact/model.joblib'\n",
        "median_cigsPerDay = impute_dictionary['artifacts']['feature_medians']['artifacts'][0]['metadata']['medians']['cigsPerDay']\n",
        "median_totChol = impute_dictionary['artifacts']['feature_medians']['artifacts'][0]['metadata']['medians']['totChol']\n",
        "median_glucose = impute_dictionary['artifacts']['feature_medians']['artifacts'][0]['metadata']['medians']['glucose']\n",
        "median_BMI = impute_dictionary['artifacts']['feature_medians']['artifacts'][0]['metadata']['medians']['BMI']\n",
        "median_heartRate = impute_dictionary['artifacts']['feature_medians']['artifacts'][0]['metadata']['medians']['heartRate']\n",
        "mode_education = impute_dictionary['artifacts']['feature_medians']['artifacts'][0]['metadata']['modes']['education']\n",
        "mode_BPMeds = impute_dictionary['artifacts']['feature_medians']['artifacts'][0]['metadata']['modes']['BPMeds']\n",
        "\n",
        "\n",
        "@pipeline(name='final_project_inference_pipeline')\n",
        "def final_project_inference_pipeline(dataset_for_predictions_path: str,\n",
        "                               median_cigsPerDay: float = median_cigsPerDay,\n",
        "                               median_totChol: float = median_totChol,\n",
        "                               median_glucose: float = median_glucose,\n",
        "                               median_BMI: float = median_BMI,\n",
        "                               median_heartRate: float = median_heartRate,\n",
        "                               mode_education: float = mode_education,\n",
        "                               mode_BPMed: float = mode_BPMeds,\n",
        "                               model_uri: str = model_path):\n",
        "\n",
        "\n",
        "\n",
        "    imputed_data = impute_multiple_features_validation(\n",
        "        validation_dataset_path=dataset_for_predictions_path,\n",
        "        median_cigsPerDay=median_cigsPerDay,\n",
        "        median_totChol=median_totChol,\n",
        "        median_glucose=median_glucose,\n",
        "        median_BMI=median_BMI,\n",
        "        median_heartRate=median_heartRate,\n",
        "        mode_education=mode_education,\n",
        "        mode_BPMeds=mode_BPMeds\n",
        "    )\n",
        "\n",
        "    test_data_preparation = perform_initial_data_preparation(input_dataset_path=imputed_data.outputs['imputed_dataset_path'])\n",
        "\n",
        "    perform_predictions(\n",
        "        dataset_for_prediction_path=test_data_preparation.outputs['output_dataset_path'],\n",
        "        model_path=model_uri\n",
        "    )\n",
        "\n"
      ],
      "metadata": {
        "id": "UTo3L3HLn-LJ"
      },
      "id": "UTo3L3HLn-LJ",
      "execution_count": null,
      "outputs": []
    },
    {
      "cell_type": "code",
      "source": [
        "from kfp.v2 import compiler\n",
        "\n",
        "compiler.Compiler().compile(\n",
        "    pipeline_func=final_project_inference_pipeline,\n",
        "    package_path = 'final_project_inference_pipeline.json'\n",
        ")\n",
        "\n",
        "pipeline_job = aiplatform.PipelineJob(\n",
        "    display_name='final_project_inference_pipeline',\n",
        "    template_path='final_project_inference_pipeline.json',\n",
        "    pipeline_root='gs://final-bucket-2',\n",
        "    parameter_values={\n",
        "        'dataset_for_predictions_path': 'gs://final-bucket-2/Final Project Evaluation Dataset - Student.csv'\n",
        "    },\n",
        "    enable_caching=True\n",
        ")\n",
        "\n",
        "pipeline_job.run()"
      ],
      "metadata": {
        "colab": {
          "base_uri": "https://localhost:8080/"
        },
        "id": "7msr3PBWsLcH",
        "executionInfo": {
          "status": "ok",
          "timestamp": 1714698963612,
          "user_tz": 420,
          "elapsed": 306093,
          "user": {
            "displayName": "",
            "userId": ""
          }
        },
        "outputId": "89ad38a0-7963-4ebc-b3d3-715a789a4925"
      },
      "id": "7msr3PBWsLcH",
      "execution_count": 23,
      "outputs": [
        {
          "output_type": "stream",
          "name": "stderr",
          "text": [
            "INFO:google.cloud.aiplatform.pipeline_jobs:Creating PipelineJob\n",
            "INFO:google.cloud.aiplatform.pipeline_jobs:PipelineJob created. Resource name: projects/795244162107/locations/us-central1/pipelineJobs/final-project-inference-pipeline-20240503011057\n",
            "INFO:google.cloud.aiplatform.pipeline_jobs:To use this PipelineJob in another session:\n",
            "INFO:google.cloud.aiplatform.pipeline_jobs:pipeline_job = aiplatform.PipelineJob.get('projects/795244162107/locations/us-central1/pipelineJobs/final-project-inference-pipeline-20240503011057')\n",
            "INFO:google.cloud.aiplatform.pipeline_jobs:View Pipeline Job:\n",
            "https://console.cloud.google.com/vertex-ai/locations/us-central1/pipelines/runs/final-project-inference-pipeline-20240503011057?project=795244162107\n",
            "INFO:google.cloud.aiplatform.pipeline_jobs:PipelineJob projects/795244162107/locations/us-central1/pipelineJobs/final-project-inference-pipeline-20240503011057 current state:\n",
            "PipelineState.PIPELINE_STATE_RUNNING\n",
            "INFO:google.cloud.aiplatform.pipeline_jobs:PipelineJob projects/795244162107/locations/us-central1/pipelineJobs/final-project-inference-pipeline-20240503011057 current state:\n",
            "PipelineState.PIPELINE_STATE_RUNNING\n",
            "INFO:google.cloud.aiplatform.pipeline_jobs:PipelineJob projects/795244162107/locations/us-central1/pipelineJobs/final-project-inference-pipeline-20240503011057 current state:\n",
            "PipelineState.PIPELINE_STATE_RUNNING\n",
            "INFO:google.cloud.aiplatform.pipeline_jobs:PipelineJob projects/795244162107/locations/us-central1/pipelineJobs/final-project-inference-pipeline-20240503011057 current state:\n",
            "PipelineState.PIPELINE_STATE_RUNNING\n",
            "INFO:google.cloud.aiplatform.pipeline_jobs:PipelineJob projects/795244162107/locations/us-central1/pipelineJobs/final-project-inference-pipeline-20240503011057 current state:\n",
            "PipelineState.PIPELINE_STATE_RUNNING\n",
            "INFO:google.cloud.aiplatform.pipeline_jobs:PipelineJob run completed. Resource name: projects/795244162107/locations/us-central1/pipelineJobs/final-project-inference-pipeline-20240503011057\n"
          ]
        }
      ]
    }
  ],
  "metadata": {
    "kernelspec": {
      "display_name": "Python 3",
      "language": "python",
      "name": "python3"
    },
    "language_info": {
      "codemirror_mode": {
        "name": "ipython",
        "version": 3
      },
      "file_extension": ".py",
      "mimetype": "text/x-python",
      "name": "python",
      "nbconvert_exporter": "python",
      "pygments_lexer": "ipython3",
      "version": "3.10.10"
    },
    "colab": {
      "provenance": [],
      "name": "yiwenmei01 infer smote gradient boosting smoker0(May 2, 2024, 3_14_14 PM).ipynb"
    }
  },
  "nbformat": 4,
  "nbformat_minor": 5
}